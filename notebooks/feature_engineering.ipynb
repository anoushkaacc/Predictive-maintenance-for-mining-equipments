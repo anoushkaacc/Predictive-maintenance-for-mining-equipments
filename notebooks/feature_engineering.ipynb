{
 "cells": [
  {
   "cell_type": "code",
   "execution_count": 1,
   "metadata": {},
   "outputs": [],
   "source": [
    "import pandas as pd"
   ]
  },
  {
   "cell_type": "code",
   "execution_count": 2,
   "metadata": {},
   "outputs": [],
   "source": [
    "data_path = r'C:\\Users\\anoushka chatterjee\\Desktop\\project\\data\\raw\\equipment_data.csv'\n",
    "df = pd.read_csv(data_path)"
   ]
  },
  {
   "cell_type": "code",
   "execution_count": 3,
   "metadata": {},
   "outputs": [],
   "source": [
    "df['timestamp'] = pd.to_datetime(df['timestamp'])"
   ]
  },
  {
   "cell_type": "code",
   "execution_count": 4,
   "metadata": {},
   "outputs": [],
   "source": [
    "df['temp_rolling_mean'] = df['temperature'].rolling(window=5).mean()\n",
    "df['pressure_rolling_mean'] = df['pressure'].rolling(window=5).mean()\n",
    "df['vibration_rolling_mean'] = df['vibration'].rolling(window=5).mean()"
   ]
  },
  {
   "cell_type": "code",
   "execution_count": 5,
   "metadata": {},
   "outputs": [],
   "source": [
    "df['temp_rolling_std'] = df['temperature'].rolling(window=5).std()\n",
    "df['pressure_rolling_std'] = df['pressure'].rolling(window=5).std()\n",
    "df['vibration_rolling_std'] = df['vibration'].rolling(window=5).std()\n"
   ]
  },
  {
   "cell_type": "code",
   "execution_count": 6,
   "metadata": {},
   "outputs": [],
   "source": [
    "df['temp_lag_1'] = df['temperature'].shift(1)\n",
    "df['pressure_lag_1'] = df['pressure'].shift(1)\n",
    "df['vibration_lag_1'] = df['vibration'].shift(1)\n"
   ]
  },
  {
   "cell_type": "code",
   "execution_count": 7,
   "metadata": {},
   "outputs": [],
   "source": [
    "df.dropna(inplace=True)"
   ]
  },
  {
   "cell_type": "code",
   "execution_count": 8,
   "metadata": {},
   "outputs": [
    {
     "name": "stdout",
     "output_type": "stream",
     "text": [
      "New features created:\n",
      "            timestamp  temperature   pressure  vibration  failure  \\\n",
      "4 2023-01-01 04:00:00    72.658466  37.600459   0.024123        0   \n",
      "5 2023-01-01 05:00:00    72.658630  30.655597   0.013839        0   \n",
      "6 2023-01-01 06:00:00    90.792128  34.424213   0.028495        1   \n",
      "7 2023-01-01 07:00:00    82.674347  40.256235   0.011333        0   \n",
      "8 2023-01-01 08:00:00    70.305256  26.530978   0.021538        0   \n",
      "\n",
      "   temp_rolling_mean  pressure_rolling_mean  vibration_rolling_mean  \\\n",
      "4          79.590030              30.525198                0.023157   \n",
      "5          78.128328              30.895590                0.020412   \n",
      "6          81.563282              30.302311                0.016937   \n",
      "7          81.802774              33.835955                0.019156   \n",
      "8          77.817766              33.893496                0.019866   \n",
      "\n",
      "   temp_rolling_std  pressure_rolling_std  vibration_rolling_std  temp_lag_1  \\\n",
      "4          7.082322              6.735924               0.016495   90.230299   \n",
      "5          7.711296              6.668169               0.016719   72.658466   \n",
      "6          8.928673              6.049049               0.010895   72.658630   \n",
      "7          8.941826              5.556551               0.007119   90.792128   \n",
      "8          8.683221              5.458900               0.007151   82.674347   \n",
      "\n",
      "   pressure_lag_1  vibration_lag_1  \n",
      "4       26.243273         0.017989  \n",
      "5       37.600459         0.024123  \n",
      "6       30.655597         0.013839  \n",
      "7       34.424213         0.028495  \n",
      "8       40.256235         0.011333  \n"
     ]
    }
   ],
   "source": [
    "print(\"New features created:\")\n",
    "print(df.head())\n"
   ]
  },
  {
   "cell_type": "code",
   "execution_count": 9,
   "metadata": {},
   "outputs": [
    {
     "name": "stdout",
     "output_type": "stream",
     "text": [
      "Feature engineering completed and saved to C:\\Users\\anoushka chatterjee\\Desktop\\project\\data\\processed\\equipment_data_with_features.csv\n"
     ]
    }
   ],
   "source": [
    "processed_data_path = r'C:\\Users\\anoushka chatterjee\\Desktop\\project\\data\\processed\\equipment_data_with_features.csv'\n",
    "df.to_csv(processed_data_path, index=False)\n",
    "print(f\"Feature engineering completed and saved to {processed_data_path}\")"
   ]
  },
  {
   "cell_type": "code",
   "execution_count": null,
   "metadata": {},
   "outputs": [],
   "source": []
  }
 ],
 "metadata": {
  "kernelspec": {
   "display_name": "Python 3",
   "language": "python",
   "name": "python3"
  },
  "language_info": {
   "codemirror_mode": {
    "name": "ipython",
    "version": 3
   },
   "file_extension": ".py",
   "mimetype": "text/x-python",
   "name": "python",
   "nbconvert_exporter": "python",
   "pygments_lexer": "ipython3",
   "version": "3.12.2"
  }
 },
 "nbformat": 4,
 "nbformat_minor": 2
}
